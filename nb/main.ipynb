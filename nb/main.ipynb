{
 "cells": [
  {
   "cell_type": "code",
   "execution_count": 12,
   "metadata": {
    "ExecuteTime": {
     "end_time": "2020-03-03T13:52:29.358520Z",
     "start_time": "2020-03-03T13:52:29.355521Z"
    }
   },
   "outputs": [],
   "source": [
    "#export\n",
    "import nbexp_anilist\n",
    "import nbexp_bilibili"
   ]
  },
  {
   "cell_type": "code",
   "execution_count": 41,
   "metadata": {
    "ExecuteTime": {
     "end_time": "2020-03-03T16:37:50.659364Z",
     "start_time": "2020-03-03T16:37:50.647370Z"
    }
   },
   "outputs": [],
   "source": [
    "#export\n",
    "import traceback\n",
    "def run_user_code(mod):\n",
    "    try:\n",
    "        name=mod.__name__\n",
    "        main = getattr(mod, 'main')\n",
    "        main()\n",
    "    except Exception:\n",
    "        print(\"Exception in user code: %s\"%name)\n",
    "        print(\"-\"*60)\n",
    "        traceback.print_exc() #file=sys.stdout)\n",
    "        print(\"-\"*60)"
   ]
  },
  {
   "cell_type": "code",
   "execution_count": 42,
   "metadata": {
    "ExecuteTime": {
     "end_time": "2020-03-03T16:37:57.300401Z",
     "start_time": "2020-03-03T16:37:54.037855Z"
    }
   },
   "outputs": [
    {
     "name": "stdout",
     "output_type": "stream",
     "text": [
      "Exception in user code: nbexp_anilist\n",
      "------------------------------------------------------------\n",
      "------------------------------------------------------------\n"
     ]
    },
    {
     "name": "stderr",
     "output_type": "stream",
     "text": [
      "Traceback (most recent call last):\n",
      "  File \"<ipython-input-41-29abcaad87da>\", line 7, in run_user_code\n",
      "    main()\n",
      "  File \"C:\\Users\\xiaos\\jupyter-ws\\siteWatcher\\nb\\nbexp_bilibili.py\", line 113, in main\n",
      "    wj = partial( write_json, json_path,)\n",
      "  File \"C:\\Users\\xiaos\\jupyter-ws\\siteWatcher\\nb\\nbexp_anilist.py\", line 60, in get_cards\n",
      "    return cvt_cards(j)\n",
      "  File \"C:\\Users\\xiaos\\jupyter-ws\\siteWatcher\\nb\\nbexp_anilist.py\", line 49, in cvt_cards\n",
      "    notifications = j['data'][\"Page\"][\"notifications\"]\n",
      "TypeError: 'NoneType' object is not subscriptable\n"
     ]
    }
   ],
   "source": [
    "run_user_code(nbexp_anilist)"
   ]
  },
  {
   "cell_type": "code",
   "execution_count": 40,
   "metadata": {
    "ExecuteTime": {
     "end_time": "2020-03-03T16:35:39.353036Z",
     "start_time": "2020-03-03T16:35:39.346038Z"
    }
   },
   "outputs": [
    {
     "data": {
      "text/plain": [
       "'nbexp_anilist'"
      ]
     },
     "execution_count": 40,
     "metadata": {},
     "output_type": "execute_result"
    }
   ],
   "source": [
    "nbexp_anilist.__name__"
   ]
  },
  {
   "cell_type": "code",
   "execution_count": 26,
   "metadata": {
    "ExecuteTime": {
     "end_time": "2020-03-03T13:54:37.776808Z",
     "start_time": "2020-03-03T13:54:37.766831Z"
    }
   },
   "outputs": [
    {
     "data": {
      "text/plain": [
       "'2020-03-03T21:54:37'"
      ]
     },
     "execution_count": 26,
     "metadata": {},
     "output_type": "execute_result"
    }
   ],
   "source": [
    "#export\n",
    "from time import sleep, mktime\n",
    "from datetime import datetime\n",
    "import sys\n",
    "def now():return mktime(datetime.now().timetuple())\n",
    "def now_s():\n",
    "    s = datetime.now().isoformat()\n",
    "    return s[:s.index('.')]\n",
    "now_s()"
   ]
  },
  {
   "cell_type": "code",
   "execution_count": 19,
   "metadata": {
    "ExecuteTime": {
     "end_time": "2020-03-03T13:52:45.270481Z",
     "start_time": "2020-03-03T13:52:45.262506Z"
    }
   },
   "outputs": [
    {
     "data": {
      "text/plain": [
       "0.0"
      ]
     },
     "execution_count": 19,
     "metadata": {},
     "output_type": "execute_result"
    }
   ],
   "source": [
    "t1 = now()\n",
    "t2 = now()\n",
    "d = t2 - t1\n",
    "d"
   ]
  },
  {
   "cell_type": "code",
   "execution_count": 46,
   "metadata": {
    "ExecuteTime": {
     "end_time": "2020-03-03T16:39:29.906498Z",
     "start_time": "2020-03-03T16:39:29.354265Z"
    }
   },
   "outputs": [
    {
     "name": "stdout",
     "output_type": "stream",
     "text": [
      "Converted main.ipynb to nbexp_main.py\n"
     ]
    }
   ],
   "source": [
    "!python notebook2script.py main.ipynb"
   ]
  },
  {
   "cell_type": "code",
   "execution_count": 45,
   "metadata": {
    "ExecuteTime": {
     "end_time": "2020-03-03T16:39:04.750384Z",
     "start_time": "2020-03-03T16:39:00.737954Z"
    }
   },
   "outputs": [
    {
     "name": "stdout",
     "output_type": "stream",
     "text": [
      "2020-03-04T00:39:00 Exception in user code: nbexp_anilist\n",
      "------------------------------------------------------------\n",
      "------------------------------------------------------------\n"
     ]
    },
    {
     "name": "stderr",
     "output_type": "stream",
     "text": [
      "Traceback (most recent call last):\n",
      "  File \"<ipython-input-41-29abcaad87da>\", line 7, in run_user_code\n",
      "    main()\n",
      "  File \"C:\\Users\\xiaos\\jupyter-ws\\siteWatcher\\nb\\nbexp_bilibili.py\", line 113, in main\n",
      "    wj = partial( write_json, json_path,)\n",
      "  File \"C:\\Users\\xiaos\\jupyter-ws\\siteWatcher\\nb\\nbexp_anilist.py\", line 60, in get_cards\n",
      "    return cvt_cards(j)\n",
      "  File \"C:\\Users\\xiaos\\jupyter-ws\\siteWatcher\\nb\\nbexp_anilist.py\", line 49, in cvt_cards\n",
      "    notifications = j['data'][\"Page\"][\"notifications\"]\n",
      "TypeError: 'NoneType' object is not subscriptable\n"
     ]
    },
    {
     "name": "stdout",
     "output_type": "stream",
     "text": [
      "duration   4 seconds\n"
     ]
    }
   ],
   "source": [
    "#export\n",
    "hrs = 1\n",
    "sec = hrs * 60 * 60\n",
    "while True:\n",
    "    t1 = now()\n",
    "    print(now_s(), end=' ')\n",
    "    \n",
    "    run_user_code(nbexp_anilist)\n",
    "    run_user_code(nbexp_bilibili)\n",
    "    \n",
    "    t2 = now()\n",
    "    print(\"duration %3d seconds\"%(t2 - t1))\n",
    "    if __doc__ == 'Automatically created module for IPython interactive environment':\n",
    "        break;\n",
    "    \n",
    "    sleep(sec)"
   ]
  },
  {
   "cell_type": "code",
   "execution_count": 10,
   "metadata": {
    "ExecuteTime": {
     "end_time": "2020-03-03T13:51:03.567104Z",
     "start_time": "2020-03-03T13:51:03.561109Z"
    }
   },
   "outputs": [
    {
     "data": {
      "text/plain": [
       "'Automatically created module for IPython interactive environment'"
      ]
     },
     "execution_count": 10,
     "metadata": {},
     "output_type": "execute_result"
    }
   ],
   "source": []
  }
 ],
 "metadata": {
  "kernelspec": {
   "display_name": "Python 3",
   "language": "python",
   "name": "python3"
  },
  "language_info": {
   "codemirror_mode": {
    "name": "ipython",
    "version": 3
   },
   "file_extension": ".py",
   "mimetype": "text/x-python",
   "name": "python",
   "nbconvert_exporter": "python",
   "pygments_lexer": "ipython3",
   "version": "3.7.4"
  }
 },
 "nbformat": 4,
 "nbformat_minor": 2
}
