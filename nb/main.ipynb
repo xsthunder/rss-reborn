{
 "cells": [
  {
   "cell_type": "code",
   "execution_count": 1,
   "metadata": {
    "ExecuteTime": {
     "end_time": "2020-03-05T11:01:20.805438Z",
     "start_time": "2020-03-05T11:01:20.537579Z"
    }
   },
   "outputs": [],
   "source": [
    "#export\n",
    "import nbexp_anilist\n",
    "import nbexp_bilibili\n",
    "from functools import partial\n",
    "print = partial(print, flush=True)"
   ]
  },
  {
   "cell_type": "code",
   "execution_count": 17,
   "metadata": {
    "ExecuteTime": {
     "end_time": "2020-03-05T11:30:06.594117Z",
     "start_time": "2020-03-05T11:30:06.579123Z"
    }
   },
   "outputs": [],
   "source": [
    "#export\n",
    "from time import sleep, mktime\n",
    "from datetime import datetime\n",
    "import sys\n",
    "def now():return mktime(datetime.now().timetuple())\n",
    "def now_s():\n",
    "    s = datetime.now().isoformat()\n",
    "    return s[:s.index('.')]\n",
    "now_s()\n",
    "\n",
    "def timer(slient_mode = False):\n",
    "    pf = print\n",
    "    def empty_func(*args):\n",
    "        pass\n",
    "    pf = empty_func if slient_mode else print\n",
    "    \n",
    "    def split_by_time(*args):\n",
    "        pf(\"-\"*60 , now_s(), *args)\n",
    "    \n",
    "    split_by_time()\n",
    "    t1 = now()\n",
    "    yield t1, 0\n",
    "    \n",
    "    while True:\n",
    "        t2 = now()\n",
    "        split_by_time(\"time costs %2d secs\"%(t2 - t1))\n",
    "        yield t2, t2 - t1"
   ]
  },
  {
   "cell_type": "code",
   "execution_count": 18,
   "metadata": {
    "ExecuteTime": {
     "end_time": "2020-03-05T11:30:13.529425Z",
     "start_time": "2020-03-05T11:30:13.521429Z"
    }
   },
   "outputs": [
    {
     "name": "stdout",
     "output_type": "stream",
     "text": [
      "------------------------------------------------------------ 2020-03-05T19:30:13\n"
     ]
    },
    {
     "data": {
      "text/plain": [
       "(1583407813.0, 0)"
      ]
     },
     "execution_count": 18,
     "metadata": {},
     "output_type": "execute_result"
    }
   ],
   "source": [
    "t1 = timer()\n",
    "next(t1)"
   ]
  },
  {
   "cell_type": "code",
   "execution_count": 38,
   "metadata": {
    "ExecuteTime": {
     "end_time": "2020-03-05T11:30:24.373183Z",
     "start_time": "2020-03-05T11:30:24.365190Z"
    }
   },
   "outputs": [
    {
     "name": "stdout",
     "output_type": "stream",
     "text": [
      "------------------------------------------------------------ 2020-03-05T19:30:24 time costs 11 secs\n"
     ]
    },
    {
     "data": {
      "text/plain": [
       "(1583407824.0, 11.0)"
      ]
     },
     "execution_count": 38,
     "metadata": {},
     "output_type": "execute_result"
    }
   ],
   "source": [
    "next(t1)"
   ]
  },
  {
   "cell_type": "code",
   "execution_count": 3,
   "metadata": {
    "ExecuteTime": {
     "end_time": "2020-03-05T11:01:21.901093Z",
     "start_time": "2020-03-05T11:01:21.896093Z"
    }
   },
   "outputs": [],
   "source": [
    "#export\n",
    "from IPython.display import display, Javascript\n",
    "def save_notebook(): display(Javascript('IPython.notebook.save_checkpoint();'))"
   ]
  },
  {
   "cell_type": "code",
   "execution_count": 134,
   "metadata": {
    "ExecuteTime": {
     "end_time": "2020-03-05T11:00:33.337474Z",
     "start_time": "2020-03-05T11:00:33.329482Z"
    }
   },
   "outputs": [
    {
     "name": "stdout",
     "output_type": "stream",
     "text": [
      "------------------------------------------------------------ 2020-03-05T19:00:33\n"
     ]
    },
    {
     "data": {
      "text/plain": [
       "(1583406033.0, 0)"
      ]
     },
     "execution_count": 134,
     "metadata": {},
     "output_type": "execute_result"
    }
   ],
   "source": [
    "t = timer()\n",
    "next(t)"
   ]
  },
  {
   "cell_type": "code",
   "execution_count": 135,
   "metadata": {
    "ExecuteTime": {
     "end_time": "2020-03-05T11:00:33.809741Z",
     "start_time": "2020-03-05T11:00:33.801748Z"
    }
   },
   "outputs": [
    {
     "name": "stdout",
     "output_type": "stream",
     "text": [
      "------------------------------------------------------------ 2020-03-05T19:00:33 time costs  0 secs\n"
     ]
    },
    {
     "data": {
      "text/plain": [
       "(1583406033.0, 0.0)"
      ]
     },
     "execution_count": 135,
     "metadata": {},
     "output_type": "execute_result"
    }
   ],
   "source": [
    "next(t)"
   ]
  },
  {
   "cell_type": "code",
   "execution_count": 41,
   "metadata": {
    "ExecuteTime": {
     "end_time": "2020-03-05T11:39:35.653659Z",
     "start_time": "2020-03-05T11:39:35.596693Z"
    }
   },
   "outputs": [],
   "source": [
    "#export\n",
    "import traceback\n",
    "\n",
    "def run_user_code(mod):\n",
    "    try:\n",
    "        name=mod.__name__\n",
    "        main = getattr(mod, 'main')\n",
    "        main()\n",
    "    except Exception:\n",
    "        print(\"Exception in user code: %s\"%name)\n",
    "        traceback.print_exc(file=sys.stdout)"
   ]
  },
  {
   "cell_type": "code",
   "execution_count": 45,
   "metadata": {
    "ExecuteTime": {
     "end_time": "2020-03-05T11:39:56.318176Z",
     "start_time": "2020-03-05T11:39:56.312175Z"
    }
   },
   "outputs": [
    {
     "name": "stdout",
     "output_type": "stream",
     "text": [
      "NoneType: None\n"
     ]
    }
   ],
   "source": [
    "traceback.print_exc(file=sys.stdout)"
   ]
  },
  {
   "cell_type": "code",
   "execution_count": null,
   "metadata": {
    "ExecuteTime": {
     "start_time": "2020-03-05T11:40:00.591Z"
    }
   },
   "outputs": [],
   "source": [
    "save_notebook()"
   ]
  },
  {
   "cell_type": "code",
   "execution_count": 43,
   "metadata": {
    "ExecuteTime": {
     "end_time": "2020-03-05T11:39:38.941009Z",
     "start_time": "2020-03-05T11:39:38.651178Z"
    }
   },
   "outputs": [
    {
     "name": "stdout",
     "output_type": "stream",
     "text": [
      "Converted main.ipynb to nbexp_main.py\n"
     ]
    }
   ],
   "source": [
    "!python notebook2script.py main.ipynb"
   ]
  },
  {
   "cell_type": "code",
   "execution_count": 44,
   "metadata": {
    "ExecuteTime": {
     "end_time": "2020-03-05T11:39:44.465482Z",
     "start_time": "2020-03-05T11:39:39.773867Z"
    }
   },
   "outputs": [],
   "source": [
    "#export\n",
    "\n",
    "\n",
    "run_user_code(nbexp_anilist)\n",
    "run_user_code(nbexp_bilibili)\n",
    "\n"
   ]
  },
  {
   "cell_type": "code",
   "execution_count": 10,
   "metadata": {
    "ExecuteTime": {
     "end_time": "2020-03-03T13:51:03.567104Z",
     "start_time": "2020-03-03T13:51:03.561109Z"
    }
   },
   "outputs": [
    {
     "data": {
      "text/plain": [
       "'Automatically created module for IPython interactive environment'"
      ]
     },
     "execution_count": 10,
     "metadata": {},
     "output_type": "execute_result"
    }
   ],
   "source": []
  }
 ],
 "metadata": {
  "kernelspec": {
   "display_name": "Python 3",
   "language": "python",
   "name": "python3"
  },
  "language_info": {
   "codemirror_mode": {
    "name": "ipython",
    "version": 3
   },
   "file_extension": ".py",
   "mimetype": "text/x-python",
   "name": "python",
   "nbconvert_exporter": "python",
   "pygments_lexer": "ipython3",
   "version": "3.7.4"
  }
 },
 "nbformat": 4,
 "nbformat_minor": 2
}
