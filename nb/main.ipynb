{
 "cells": [
  {
   "cell_type": "code",
   "execution_count": 12,
   "metadata": {
    "ExecuteTime": {
     "end_time": "2020-03-03T13:52:29.358520Z",
     "start_time": "2020-03-03T13:52:29.355521Z"
    }
   },
   "outputs": [],
   "source": [
    "#export\n",
    "import nbexp_anilist\n",
    "import nbexp_bilibili"
   ]
  },
  {
   "cell_type": "code",
   "execution_count": 13,
   "metadata": {
    "ExecuteTime": {
     "end_time": "2020-03-03T13:52:29.529555Z",
     "start_time": "2020-03-03T13:52:29.523533Z"
    }
   },
   "outputs": [],
   "source": [
    "#export\n",
    "import traceback\n",
    "def run_user_code(fn):\n",
    "    try:\n",
    "        fn()\n",
    "        return True\n",
    "    except Exception:\n",
    "        print(\"Exception in user code:\"%fn.__module__)\n",
    "        print(\"-\"*60)\n",
    "        traceback.print_exc() #file=sys.stdout)\n",
    "        print(\"-\"*60)\n",
    "        return False"
   ]
  },
  {
   "cell_type": "code",
   "execution_count": 14,
   "metadata": {
    "ExecuteTime": {
     "end_time": "2020-03-03T13:52:33.965499Z",
     "start_time": "2020-03-03T13:52:29.692731Z"
    },
    "deletable": false,
    "editable": false,
    "run_control": {
     "frozen": true
    }
   },
   "outputs": [
    {
     "data": {
      "text/plain": [
       "True"
      ]
     },
     "execution_count": 14,
     "metadata": {},
     "output_type": "execute_result"
    }
   ],
   "source": [
    "run_user_code(nbexp_anilist.main)"
   ]
  },
  {
   "cell_type": "code",
   "execution_count": 15,
   "metadata": {
    "ExecuteTime": {
     "end_time": "2020-03-03T13:52:33.976493Z",
     "start_time": "2020-03-03T13:52:33.968502Z"
    }
   },
   "outputs": [
    {
     "data": {
      "text/plain": [
       "'nbexp_bilibili'"
      ]
     },
     "execution_count": 15,
     "metadata": {},
     "output_type": "execute_result"
    }
   ],
   "source": [
    "nbexp_bilibili.main.__module__"
   ]
  },
  {
   "cell_type": "code",
   "execution_count": 26,
   "metadata": {
    "ExecuteTime": {
     "end_time": "2020-03-03T13:54:37.776808Z",
     "start_time": "2020-03-03T13:54:37.766831Z"
    }
   },
   "outputs": [
    {
     "data": {
      "text/plain": [
       "'2020-03-03T21:54:37'"
      ]
     },
     "execution_count": 26,
     "metadata": {},
     "output_type": "execute_result"
    }
   ],
   "source": [
    "#export\n",
    "from time import sleep, mktime\n",
    "from datetime import datetime\n",
    "import sys\n",
    "def now():return mktime(datetime.now().timetuple())\n",
    "def now_s():\n",
    "    s = datetime.now().isoformat()\n",
    "    return s[:s.index('.')]\n",
    "now_s()"
   ]
  },
  {
   "cell_type": "code",
   "execution_count": 19,
   "metadata": {
    "ExecuteTime": {
     "end_time": "2020-03-03T13:52:45.270481Z",
     "start_time": "2020-03-03T13:52:45.262506Z"
    }
   },
   "outputs": [
    {
     "data": {
      "text/plain": [
       "0.0"
      ]
     },
     "execution_count": 19,
     "metadata": {},
     "output_type": "execute_result"
    }
   ],
   "source": [
    "t1 = now()\n",
    "t2 = now()\n",
    "d = t2 - t1\n",
    "d"
   ]
  },
  {
   "cell_type": "code",
   "execution_count": 30,
   "metadata": {
    "ExecuteTime": {
     "end_time": "2020-03-03T13:55:24.003989Z",
     "start_time": "2020-03-03T13:55:23.752765Z"
    }
   },
   "outputs": [
    {
     "name": "stdout",
     "output_type": "stream",
     "text": [
      "Converted main.ipynb to nbexp_main.py\n"
     ]
    }
   ],
   "source": [
    "!python notebook2script.py main.ipynb"
   ]
  },
  {
   "cell_type": "code",
   "execution_count": 29,
   "metadata": {
    "ExecuteTime": {
     "end_time": "2020-03-03T13:55:11.800576Z",
     "start_time": "2020-03-03T13:54:59.625872Z"
    }
   },
   "outputs": [
    {
     "name": "stdout",
     "output_type": "stream",
     "text": [
      "2020-03-03T21:54:59 duration  12 seconds\n"
     ]
    }
   ],
   "source": [
    "#export\n",
    "hrs = 1\n",
    "sec = hrs * 60 * 60\n",
    "while True:\n",
    "    t1 = now()\n",
    "    print(now_s(), end=' ')\n",
    "    \n",
    "    run_user_code(nbexp_anilist.main)\n",
    "    run_user_code(nbexp_bilibili.main)\n",
    "    \n",
    "    t2 = now()\n",
    "    print(\"duration %3d seconds\"%(t2 - t1))\n",
    "    if __doc__ == 'Automatically created module for IPython interactive environment':\n",
    "        break;\n",
    "    \n",
    "    sleep(sec)"
   ]
  },
  {
   "cell_type": "code",
   "execution_count": 10,
   "metadata": {
    "ExecuteTime": {
     "end_time": "2020-03-03T13:51:03.567104Z",
     "start_time": "2020-03-03T13:51:03.561109Z"
    }
   },
   "outputs": [
    {
     "data": {
      "text/plain": [
       "'Automatically created module for IPython interactive environment'"
      ]
     },
     "execution_count": 10,
     "metadata": {},
     "output_type": "execute_result"
    }
   ],
   "source": []
  }
 ],
 "metadata": {
  "kernelspec": {
   "display_name": "Python 3",
   "language": "python",
   "name": "python3"
  },
  "language_info": {
   "codemirror_mode": {
    "name": "ipython",
    "version": 3
   },
   "file_extension": ".py",
   "mimetype": "text/x-python",
   "name": "python",
   "nbconvert_exporter": "python",
   "pygments_lexer": "ipython3",
   "version": "3.7.4"
  }
 },
 "nbformat": 4,
 "nbformat_minor": 2
}
