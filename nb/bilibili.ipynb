{
 "cells": [
  {
   "cell_type": "code",
   "execution_count": 1,
   "metadata": {
    "ExecuteTime": {
     "end_time": "2020-08-25T02:48:59.065621Z",
     "start_time": "2020-08-25T02:48:59.021819Z"
    }
   },
   "outputs": [],
   "source": [
    "#export\n",
    "from nbexp_personal import sendEmail"
   ]
  },
  {
   "cell_type": "markdown",
   "metadata": {},
   "source": [
    "## utils"
   ]
  },
  {
   "cell_type": "code",
   "execution_count": 2,
   "metadata": {
    "ExecuteTime": {
     "end_time": "2020-08-25T02:49:00.041026Z",
     "start_time": "2020-08-25T02:49:00.035882Z"
    }
   },
   "outputs": [],
   "source": [
    "#export\n",
    "def itemgetter(*args):\n",
    "    g = operator.itemgetter(*args)\n",
    "    def f(*args2):\n",
    "        return dict(zip(args,  g(*args2)))\n",
    "    return f"
   ]
  },
  {
   "cell_type": "code",
   "execution_count": 3,
   "metadata": {
    "ExecuteTime": {
     "end_time": "2020-08-25T02:49:00.617454Z",
     "start_time": "2020-08-25T02:49:00.611290Z"
    }
   },
   "outputs": [],
   "source": [
    "#export\n",
    "def write_json(filename, content):\n",
    "    with open(filename, 'w', encoding='UTF-8') as f:\n",
    "        json.dump( content,f, ensure_ascii=False, indent=4)\n",
    "def read_json(filename):\n",
    "    with open(filename, 'r', encoding='UTF-8') as f:\n",
    "        return json.load( f)"
   ]
  },
  {
   "cell_type": "markdown",
   "metadata": {},
   "source": [
    "## read and convert "
   ]
  },
  {
   "cell_type": "code",
   "execution_count": 4,
   "metadata": {
    "ExecuteTime": {
     "end_time": "2020-08-25T02:49:02.366848Z",
     "start_time": "2020-08-25T02:49:02.340454Z"
    }
   },
   "outputs": [],
   "source": [
    "#export\n",
    "# 复制为cCURL（posix）\n",
    "def read_code(code_path):\n",
    "    with open(code_path, 'r', encoding='UTF-8') as f:\n",
    "        code = f.read().split('\\n')[0]\n",
    "        return code\n",
    "code =read_code('../bili_curl.txt')"
   ]
  },
  {
   "cell_type": "code",
   "execution_count": 7,
   "metadata": {
    "ExecuteTime": {
     "end_time": "2020-08-25T02:49:22.073975Z",
     "start_time": "2020-08-25T02:49:22.065979Z"
    }
   },
   "outputs": [],
   "source": [
    "# code\n",
    "import nbexp_uncurl\n",
    "c =nbexp_uncurl.parse(code, timeout=5)\n",
    "# print(c)"
   ]
  },
  {
   "cell_type": "code",
   "execution_count": 8,
   "metadata": {
    "ExecuteTime": {
     "end_time": "2020-08-25T02:49:24.386893Z",
     "start_time": "2020-08-25T02:49:24.383892Z"
    }
   },
   "outputs": [],
   "source": [
    "# !{code.strip()}"
   ]
  },
  {
   "cell_type": "code",
   "execution_count": 9,
   "metadata": {
    "ExecuteTime": {
     "end_time": "2020-08-25T02:49:25.773796Z",
     "start_time": "2020-08-25T02:49:25.323785Z"
    }
   },
   "outputs": [],
   "source": [
    "#export\n",
    "import nbexp_uncurl\n",
    "import requests\n",
    "from functools import partial\n",
    "def fetch_code(code):\n",
    "    \"\"\"\n",
    "    default timeout for five second\n",
    "    \"\"\"\n",
    "    c =nbexp_uncurl.parse(code, timeout=5)\n",
    "    r = eval(c)\n",
    "    j = r.json()\n",
    "    return j"
   ]
  },
  {
   "cell_type": "code",
   "execution_count": 71,
   "metadata": {
    "ExecuteTime": {
     "end_time": "2020-08-25T03:14:18.905238Z",
     "start_time": "2020-08-25T03:14:18.891249Z"
    },
    "scrolled": true
   },
   "outputs": [],
   "source": [
    "#export\n",
    "import operator\n",
    "import json\n",
    "import datetime\n",
    "def get_time(timestamp):\n",
    "    d = datetime.datetime.fromtimestamp(timestamp)\n",
    "    d = d.isoformat()\n",
    "    return d\n",
    "    \n",
    "def cvt_cards(j):\n",
    "    cards = j['data']['cards']\n",
    "    \n",
    "#     card = cards[0]\n",
    "#     uname = card['desc']['user_profile']['info']['uname']\n",
    "#     card = card['card']\n",
    "#     print( desc)\n",
    "#     return \n",
    "\n",
    "    unames = list(map(lambda card:card['desc']['user_profile']['info']['uname'], cards))\n",
    "    cards = list(map(operator.itemgetter('card'), cards))\n",
    "    \n",
    "    cards = list(map(json.loads, cards))\n",
    "        \n",
    "    kl = ('title', 'desc',  'pic', 'stat', 'ctime')\n",
    "    cards = list(map(itemgetter(*kl), cards))\n",
    "    \n",
    "    def cvt(tp):\n",
    "        card, uname = tp\n",
    "        content_id = str(card['stat']['aid'])\n",
    "        \n",
    "        content = itemgetter(*kl[:-2])(card)\n",
    "        pic = content['pic'] + '@64w_36h_1c.jpg'\n",
    "        content['pic'] = pic\n",
    "        \n",
    "        d = get_time(card['ctime'])\n",
    "        url = 'https://www.bilibili.com/video/av' + content_id \n",
    "        \n",
    "        return (content_id,  {'content': content , \"url\":url , 'time':d, 'uname':uname } )\n",
    "    cards = dict((map(cvt, zip(cards, unames))))\n",
    "    return cards\n",
    "\n",
    "def get_cards():\n",
    "    fetch = partial(fetch_code, code)\n",
    "    cards = cvt_cards(fetch())\n",
    "    return cards\n"
   ]
  },
  {
   "cell_type": "code",
   "execution_count": null,
   "metadata": {},
   "outputs": [],
   "source": [
    "\n",
    "get_cards()"
   ]
  },
  {
   "cell_type": "markdown",
   "metadata": {},
   "source": [
    "## render"
   ]
  },
  {
   "cell_type": "code",
   "execution_count": 11,
   "metadata": {
    "ExecuteTime": {
     "end_time": "2020-08-25T02:49:27.903360Z",
     "start_time": "2020-08-25T02:49:27.893670Z"
    }
   },
   "outputs": [],
   "source": [
    "#export\n",
    "def render_div(v):\n",
    "    content = v['content']\n",
    "    desc = content['desc']\n",
    "\n",
    "    if len(desc) > 50:\n",
    "        desc = desc[:20]+'...'\n",
    "    \n",
    "    body = f\"\"\"\n",
    "        <div style=\"margin:10px\">\n",
    "            <img src='{content['pic']}'>\n",
    "            <a href='{v['url']}'>{content['title']}</a>\n",
    "            <span>{desc} {v['time']}</span>\n",
    "        </div>\n",
    "    \"\"\"\n",
    "    return body"
   ]
  },
  {
   "cell_type": "code",
   "execution_count": 12,
   "metadata": {
    "ExecuteTime": {
     "end_time": "2020-08-25T02:49:28.599857Z",
     "start_time": "2020-08-25T02:49:28.595862Z"
    }
   },
   "outputs": [],
   "source": [
    "#export\n",
    "def render_html(v_list):\n",
    "    divs = ''.join(map(render_div, v_list))\n",
    "    html = f\"\"\"\\\n",
    "    <html>\n",
    "      <head></head>\n",
    "      <body>\n",
    "          {divs}\n",
    "      </body>\n",
    "    </html>\n",
    "    \"\"\"\n",
    "    return html"
   ]
  },
  {
   "cell_type": "code",
   "execution_count": 13,
   "metadata": {
    "ExecuteTime": {
     "end_time": "2020-08-25T02:49:29.348397Z",
     "start_time": "2020-08-25T02:49:29.239461Z"
    }
   },
   "outputs": [],
   "source": [
    "#export\n",
    "from email.mime.multipart import MIMEMultipart\n",
    "from email.mime.text import MIMEText\n",
    "\n",
    "# Create the body of the message (a plain-text and an HTML version).\n",
    "def render_msg(v_list, sub_name=\"\"):\n",
    "    v_list = list(v_list)\n",
    "    html = render_html(v_list)\n",
    "    msg = MIMEMultipart('alternative')\n",
    "    msg['Subject'] = sub_name + '订阅' + '+' + str(len(v_list))\n",
    "    msg['From'] = sub_name\n",
    "    msg['To'] = ''\n",
    "    # Record the MIME types of both parts - text/plain and text/html.\n",
    "    part2 = MIMEText(html, 'html')\n",
    "    msg.attach(part2)\n",
    "    return msg.as_string()"
   ]
  },
  {
   "cell_type": "code",
   "execution_count": 14,
   "metadata": {
    "ExecuteTime": {
     "end_time": "2020-08-25T02:49:30.212620Z",
     "start_time": "2020-08-25T02:49:30.208621Z"
    }
   },
   "outputs": [],
   "source": [
    "# msg = render_msg(cards.values())"
   ]
  },
  {
   "cell_type": "markdown",
   "metadata": {
    "ExecuteTime": {
     "end_time": "2020-03-03T07:28:18.452169Z",
     "start_time": "2020-03-03T07:28:17.428046Z"
    }
   },
   "source": [
    "## check oldcards"
   ]
  },
  {
   "cell_type": "code",
   "execution_count": 22,
   "metadata": {
    "ExecuteTime": {
     "end_time": "2020-08-25T02:51:41.190714Z",
     "start_time": "2020-08-25T02:51:41.177742Z"
    }
   },
   "outputs": [],
   "source": [
    "#export\n",
    "\n",
    "    \n",
    "def get_main(json_path, get_cards, sub_name=\"\"):\n",
    "    \"\"\"\n",
    "    json_path where to read old cards and save merge content\n",
    "    \"\"\"\n",
    "    \n",
    "    def main():\n",
    "        cards = get_cards()\n",
    "        wj = partial( write_json, json_path,)\n",
    "        rj = partial( read_json, json_path,)\n",
    "\n",
    "        if not exists(json_path):\n",
    "            # 发送所有\n",
    "            wj({})\n",
    "\n",
    "        old_cards = rj()\n",
    "\n",
    "        new_cards = filter(lambda tp:tp[0] not in old_cards, cards.items())\n",
    "        new_cards = map(operator.itemgetter(1), new_cards)\n",
    "        new_cards = list(new_cards)\n",
    "        if new_cards:\n",
    "            msg = render_msg(new_cards, sub_name)\n",
    "            sendEmail(msg)\n",
    "            old_cards.update(cards)\n",
    "            wj(old_cards)\n",
    "            \n",
    "    return main"
   ]
  },
  {
   "cell_type": "code",
   "execution_count": 85,
   "metadata": {
    "ExecuteTime": {
     "end_time": "2020-08-25T03:22:40.268797Z",
     "start_time": "2020-08-25T03:22:40.262802Z"
    }
   },
   "outputs": [],
   "source": [
    "#export\n",
    "\n",
    "def block_on_观视频工作室(tp):\n",
    "    \n",
    "    key, o = tp\n",
    "    \n",
    "    if o['uname'] != '观视频工作室': return True\n",
    "    \n",
    "    if '睡前消息' in o['content']['title']: return True\n",
    "        \n",
    "    return False\n",
    "        \n",
    "def filter_get_cards():\n",
    "    cards = get_cards()\n",
    "    cards = list(filter(block_on_观视频工作室, cards.items()))\n",
    "    cards = dict(cards)\n",
    "    \n",
    "    return cards\n"
   ]
  },
  {
   "cell_type": "code",
   "execution_count": null,
   "metadata": {},
   "outputs": [],
   "source": [
    "filter_get_cards()"
   ]
  },
  {
   "cell_type": "code",
   "execution_count": 88,
   "metadata": {
    "ExecuteTime": {
     "end_time": "2020-08-25T03:23:20.845462Z",
     "start_time": "2020-08-25T03:23:20.841465Z"
    }
   },
   "outputs": [],
   "source": [
    "#export\n",
    "from os.path import exists\n",
    "json_path = './bili.json'\n",
    "main = get_main(json_path, filter_get_cards, \"bili\")\n"
   ]
  },
  {
   "cell_type": "code",
   "execution_count": 89,
   "metadata": {
    "ExecuteTime": {
     "end_time": "2020-08-25T03:23:24.363762Z",
     "start_time": "2020-08-25T03:23:20.969389Z"
    }
   },
   "outputs": [],
   "source": [
    "main()"
   ]
  },
  {
   "cell_type": "code",
   "execution_count": 25,
   "metadata": {
    "ExecuteTime": {
     "end_time": "2020-03-05T12:23:17.790126Z",
     "start_time": "2020-03-05T12:23:16.816555Z"
    }
   },
   "outputs": [],
   "source": [
    "#export\n",
    "if __name__ == '__main__': main()"
   ]
  },
  {
   "cell_type": "code",
   "execution_count": 90,
   "metadata": {
    "ExecuteTime": {
     "end_time": "2020-08-25T03:23:35.519436Z",
     "start_time": "2020-08-25T03:23:35.220055Z"
    }
   },
   "outputs": [
    {
     "name": "stdout",
     "output_type": "stream",
     "text": [
      "Converted bilibili.ipynb to nbexp_bilibili.py\n"
     ]
    }
   ],
   "source": [
    "!python notebook2script.py bilibili.ipynb"
   ]
  },
  {
   "cell_type": "code",
   "execution_count": 86,
   "metadata": {
    "ExecuteTime": {
     "end_time": "2020-08-25T03:23:06.592196Z",
     "start_time": "2020-08-25T03:23:04.218636Z"
    }
   },
   "outputs": [],
   "source": [
    "rj = partial( read_json, json_path,)\n",
    "old_cards = rj()\n",
    "old_cards = map(operator.itemgetter(1), cards.items())\n",
    "new_cards = get_cards()\n",
    "# msg = render_msg(new_cards, 'bili')\n",
    "# sendEmail(msg, )\n",
    "# cards"
   ]
  },
  {
   "cell_type": "code",
   "execution_count": 26,
   "metadata": {
    "ExecuteTime": {
     "end_time": "2020-08-25T02:52:40.053948Z",
     "start_time": "2020-08-25T02:52:37.407219Z"
    }
   },
   "outputs": [],
   "source": [
    "r = fetch_code(code)"
   ]
  }
 ],
 "metadata": {
  "kernelspec": {
   "display_name": "Python 3",
   "language": "python",
   "name": "python3"
  },
  "language_info": {
   "codemirror_mode": {
    "name": "ipython",
    "version": 3
   },
   "file_extension": ".py",
   "mimetype": "text/x-python",
   "name": "python",
   "nbconvert_exporter": "python",
   "pygments_lexer": "ipython3",
   "version": "3.7.4"
  }
 },
 "nbformat": 4,
 "nbformat_minor": 2
}
