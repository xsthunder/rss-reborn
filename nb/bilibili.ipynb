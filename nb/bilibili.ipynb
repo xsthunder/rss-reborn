{
 "cells": [
  {
   "cell_type": "code",
   "execution_count": 1,
   "metadata": {
    "ExecuteTime": {
     "end_time": "2020-03-03T08:48:36.858018Z",
     "start_time": "2020-03-03T08:48:36.830034Z"
    }
   },
   "outputs": [],
   "source": [
    "#export\n",
    "from nbexp_personal import sendEmail"
   ]
  },
  {
   "cell_type": "markdown",
   "metadata": {},
   "source": [
    "## utils"
   ]
  },
  {
   "cell_type": "code",
   "execution_count": 2,
   "metadata": {
    "ExecuteTime": {
     "end_time": "2020-03-03T08:48:36.869013Z",
     "start_time": "2020-03-03T08:48:36.862016Z"
    }
   },
   "outputs": [],
   "source": [
    "#export\n",
    "def itemgetter(*args):\n",
    "    g = operator.itemgetter(*args)\n",
    "    def f(*args2):\n",
    "        return dict(zip(args,  g(*args2)))\n",
    "    return f"
   ]
  },
  {
   "cell_type": "code",
   "execution_count": 3,
   "metadata": {
    "ExecuteTime": {
     "end_time": "2020-03-03T08:48:36.886003Z",
     "start_time": "2020-03-03T08:48:36.874009Z"
    }
   },
   "outputs": [],
   "source": [
    "#export\n",
    "def write_json(filename, content):\n",
    "    with open(filename, 'w', encoding='UTF-8') as f:\n",
    "        json.dump( content,f, ensure_ascii=False, indent=4)\n",
    "def read_json(filename):\n",
    "    with open(filename, 'r', encoding='UTF-8') as f:\n",
    "        return json.load( f)"
   ]
  },
  {
   "cell_type": "markdown",
   "metadata": {},
   "source": [
    "## read and convert "
   ]
  },
  {
   "cell_type": "code",
   "execution_count": 3,
   "metadata": {
    "ExecuteTime": {
     "end_time": "2020-03-03T15:14:10.012623Z",
     "start_time": "2020-03-03T15:14:09.978646Z"
    }
   },
   "outputs": [],
   "source": [
    "#export\n",
    "# 复制为cCURL（posix）\n",
    "with open('../bili_curl.txt', 'r', encoding='UTF-8') as f:\n",
    "    code = f.read()"
   ]
  },
  {
   "cell_type": "code",
   "execution_count": 4,
   "metadata": {
    "ExecuteTime": {
     "end_time": "2020-03-03T15:14:16.385648Z",
     "start_time": "2020-03-03T15:14:16.370660Z"
    }
   },
   "outputs": [
    {
     "data": {
      "text/plain": [
       "'curl \"https://api.vc.bilibili.com/dynamic_svr/v1/dynamic_svr/dynamic_new?uid=362761&type_list=8,512,4097,4098,4099,4100,4101\" -H \"User-Agent: Mozilla/5.0 (Windows NT 10.0; Win64; x64; rv:73.0) Gecko/20100101 Firefox/73.0\" -H \"Accept: application/json, text/plain, */*\" -H \"Accept-Language: zh-CN,ja;q=0.8,zh;q=0.6,en-US;q=0.4,en;q=0.2\" --compressed -H \"Origin: https://t.bilibili.com\" -H \"DNT: 1\" -H \"Connection: keep-alive\" -H \"Referer: https://t.bilibili.com/pages/nav/index_new\" -H \"Cookie: l=v; _uuid=EEE030C1-6229-6843-C00A-FE757FF1F43368764infoc; buvid3=C96EF2FC-7530-485C-ACB1-BDE4CBC21A42190961infoc; LIVE_BUVID=AUTO5515748557684260; CURRENT_FNVAL=16; stardustvideo=1; rpdid=|()kll|JJum0J\\'ul~lJllJkm; bp_t_offset_362761=362370857533697408; laboratory=1-1; im_notify_type_362761=0; CURRENT_QUALITY=32; DedeUserID=362761; DedeUserID__ckMd5=494ab7df9fc9a62f; SESSDATA=8e587874\"%\"2C1584615636\"%\"2C4a935d21; bili_jct=356ced437bcbce1de069ab6c523170e4; INTVER=1; sid=9y6gyzn1; stardustpgcv=0606; msource=unc_bnjsk130_message; kfcSource=unc_bnjsk130_message; s_cc=true; s_sq=\"%\"5B\"%\"5BB\"%\"5D\"%\"5D\"'"
      ]
     },
     "execution_count": 4,
     "metadata": {},
     "output_type": "execute_result"
    }
   ],
   "source": [
    "code"
   ]
  },
  {
   "cell_type": "code",
   "execution_count": 6,
   "metadata": {
    "ExecuteTime": {
     "end_time": "2020-03-03T15:14:23.071902Z",
     "start_time": "2020-03-03T15:14:23.067900Z"
    }
   },
   "outputs": [],
   "source": [
    "# !{code.strip()}"
   ]
  },
  {
   "cell_type": "code",
   "execution_count": 6,
   "metadata": {
    "ExecuteTime": {
     "end_time": "2020-03-03T08:48:37.506790Z",
     "start_time": "2020-03-03T08:48:36.932974Z"
    }
   },
   "outputs": [],
   "source": [
    "#export\n",
    "import uncurl\n",
    "import requests\n",
    "from functools import partial\n",
    "def fetch_code(code):\n",
    "    c = uncurl.parse(code)\n",
    "    r = eval(c)\n",
    "    j = r.json()\n",
    "    return j"
   ]
  },
  {
   "cell_type": "code",
   "execution_count": 42,
   "metadata": {
    "ExecuteTime": {
     "end_time": "2020-03-03T09:35:43.224255Z",
     "start_time": "2020-03-03T09:35:43.209241Z"
    },
    "scrolled": true
   },
   "outputs": [],
   "source": [
    "#export\n",
    "import operator\n",
    "import json\n",
    "import datetime\n",
    "def get_time(timestamp):\n",
    "    d = datetime.datetime.fromtimestamp(timestamp)\n",
    "    d = d.isoformat()\n",
    "    return d\n",
    "    \n",
    "def cvt_cards(j):\n",
    "    cards = j['data']['cards']\n",
    "    cards = list(map(operator.itemgetter('card'), cards))\n",
    "    cards = list(map(json.loads, cards))\n",
    "    kl = ('title', 'desc',  'pic', 'stat', 'ctime')\n",
    "    cards = list(map(itemgetter(*kl), cards))\n",
    "    def cvt(card):\n",
    "        content_id = str(card['stat']['aid'])\n",
    "        content = itemgetter(*kl[:-2])(card)\n",
    "        pic = content['pic'] + '@64w_36h_1c.jpg'\n",
    "        content['pic'] = pic\n",
    "        d = get_time(card['ctime'])\n",
    "        url = 'https://www.bilibili.com/video/av' + content_id \n",
    "        return (content_id,  {'content': content , \"url\":url , 'time':d} )\n",
    "    cards = dict((map(cvt, cards)))\n",
    "    return cards"
   ]
  },
  {
   "cell_type": "markdown",
   "metadata": {},
   "source": [
    "## render"
   ]
  },
  {
   "cell_type": "code",
   "execution_count": 8,
   "metadata": {
    "ExecuteTime": {
     "end_time": "2020-03-03T08:48:37.542769Z",
     "start_time": "2020-03-03T08:48:37.526780Z"
    }
   },
   "outputs": [],
   "source": [
    "#export\n",
    "def render_div(v):\n",
    "    content = v['content']\n",
    "    desc = content['desc']\n",
    "\n",
    "    if len(desc) > 50:\n",
    "        desc = desc[:20]+'...'\n",
    "    \n",
    "    body = f\"\"\"\n",
    "        <div style=\"margin:10px\">\n",
    "            <img src='{content['pic']}'>\n",
    "            <a href='{v['url']}'>{content['title']}</a>\n",
    "            <span>{desc} {v['time']}</span>\n",
    "        </div>\n",
    "    \"\"\"\n",
    "    return body"
   ]
  },
  {
   "cell_type": "code",
   "execution_count": 9,
   "metadata": {
    "ExecuteTime": {
     "end_time": "2020-03-03T08:48:37.569756Z",
     "start_time": "2020-03-03T08:48:37.546769Z"
    }
   },
   "outputs": [],
   "source": [
    "#export\n",
    "def render_html(v_list):\n",
    "    divs = ''.join(map(render_div, v_list))\n",
    "    html = f\"\"\"\\\n",
    "    <html>\n",
    "      <head></head>\n",
    "      <body>\n",
    "          {divs}\n",
    "      </body>\n",
    "    </html>\n",
    "    \"\"\"\n",
    "    return html"
   ]
  },
  {
   "cell_type": "code",
   "execution_count": 54,
   "metadata": {
    "ExecuteTime": {
     "end_time": "2020-03-03T09:46:14.658158Z",
     "start_time": "2020-03-03T09:46:14.646164Z"
    }
   },
   "outputs": [],
   "source": [
    "#export\n",
    "from email.mime.multipart import MIMEMultipart\n",
    "from email.mime.text import MIMEText\n",
    "\n",
    "# Create the body of the message (a plain-text and an HTML version).\n",
    "def render_msg(v_list, sub_name=\"\"):\n",
    "    v_list = list(v_list)\n",
    "    html = render_html(v_list)\n",
    "    msg = MIMEMultipart('alternative')\n",
    "    msg['Subject'] = sub_name + '订阅' + '+' + str(len(v_list))\n",
    "    msg['From'] = sub_name\n",
    "    msg['To'] = ''\n",
    "    # Record the MIME types of both parts - text/plain and text/html.\n",
    "    part2 = MIMEText(html, 'html')\n",
    "    msg.attach(part2)\n",
    "    return msg.as_string()"
   ]
  },
  {
   "cell_type": "code",
   "execution_count": 11,
   "metadata": {
    "ExecuteTime": {
     "end_time": "2020-03-03T08:48:37.643711Z",
     "start_time": "2020-03-03T08:48:37.635716Z"
    }
   },
   "outputs": [],
   "source": [
    "# msg = render_msg(cards.values())"
   ]
  },
  {
   "cell_type": "markdown",
   "metadata": {
    "ExecuteTime": {
     "end_time": "2020-03-03T07:28:18.452169Z",
     "start_time": "2020-03-03T07:28:17.428046Z"
    }
   },
   "source": [
    "## check oldcards"
   ]
  },
  {
   "cell_type": "code",
   "execution_count": 52,
   "metadata": {
    "ExecuteTime": {
     "end_time": "2020-03-03T09:45:54.147220Z",
     "start_time": "2020-03-03T09:45:54.136224Z"
    }
   },
   "outputs": [],
   "source": [
    "#export\n",
    "def get_cards():\n",
    "    fetch = partial(fetch_code, code)\n",
    "    cards = cvt_cards(fetch())\n",
    "    return cards\n",
    "    \n",
    "def get_main(json_path, get_cards, sub_name=\"\"):\n",
    "    \n",
    "    def main():\n",
    "        cards = get_cards()\n",
    "        wj = partial( write_json, json_path,)\n",
    "        rj = partial( read_json, json_path,)\n",
    "\n",
    "        if not exists(json_path):\n",
    "            wj(cards)\n",
    "\n",
    "        old_cards = rj()\n",
    "\n",
    "        new_cards = filter(lambda tp:tp[0] not in old_cards, cards.items())\n",
    "        new_cards = map(operator.itemgetter(1), new_cards)\n",
    "        new_cards = list(new_cards)\n",
    "        if new_cards:\n",
    "            msg = render_msg(new_cards, sub_name)\n",
    "            sendEmail(msg)\n",
    "            old_cards.update(cards)\n",
    "            wj(old_cards)\n",
    "            \n",
    "    return main"
   ]
  },
  {
   "cell_type": "code",
   "execution_count": 53,
   "metadata": {
    "ExecuteTime": {
     "end_time": "2020-03-03T09:45:59.123796Z",
     "start_time": "2020-03-03T09:45:59.118780Z"
    }
   },
   "outputs": [],
   "source": [
    "#export\n",
    "from os.path import exists\n",
    "json_path = './bili.json'\n",
    "main = get_main(json_path, get_cards, \"bili\")\n"
   ]
  },
  {
   "cell_type": "code",
   "execution_count": 35,
   "metadata": {
    "ExecuteTime": {
     "end_time": "2020-03-03T09:26:27.403659Z",
     "start_time": "2020-03-03T09:26:26.806936Z"
    }
   },
   "outputs": [],
   "source": [
    "main()"
   ]
  },
  {
   "cell_type": "code",
   "execution_count": 8,
   "metadata": {
    "ExecuteTime": {
     "end_time": "2020-03-03T15:14:32.356151Z",
     "start_time": "2020-03-03T15:14:32.106716Z"
    }
   },
   "outputs": [
    {
     "name": "stdout",
     "output_type": "stream",
     "text": [
      "Converted bilibili.ipynb to nbexp_bilibili.py\n"
     ]
    }
   ],
   "source": [
    "!python notebook2script.py bilibili.ipynb"
   ]
  },
  {
   "cell_type": "code",
   "execution_count": 56,
   "metadata": {
    "ExecuteTime": {
     "end_time": "2020-03-03T09:48:17.235041Z",
     "start_time": "2020-03-03T09:47:54.212879Z"
    }
   },
   "outputs": [],
   "source": [
    "rj = partial( read_json, json_path,)\n",
    "cards = rj()\n",
    "new_cards = map(operator.itemgetter(1), cards.items())\n",
    "new_cards = list(new_cards )\n",
    "msg = render_msg(new_cards, 'bili')\n",
    "sendEmail(msg, )"
   ]
  },
  {
   "cell_type": "code",
   "execution_count": null,
   "metadata": {
    "ExecuteTime": {
     "end_time": "2020-03-03T09:46:59.924090Z",
     "start_time": "2020-03-03T09:46:18.033Z"
    }
   },
   "outputs": [],
   "source": [
    "new_cards[0]"
   ]
  },
  {
   "cell_type": "code",
   "execution_count": 16,
   "metadata": {
    "ExecuteTime": {
     "end_time": "2020-03-03T08:48:41.022433Z",
     "start_time": "2020-03-03T08:48:40.522648Z"
    }
   },
   "outputs": [],
   "source": [
    "r = fetch_code(code)"
   ]
  }
 ],
 "metadata": {
  "kernelspec": {
   "display_name": "Python 3",
   "language": "python",
   "name": "python3"
  },
  "language_info": {
   "codemirror_mode": {
    "name": "ipython",
    "version": 3
   },
   "file_extension": ".py",
   "mimetype": "text/x-python",
   "name": "python",
   "nbconvert_exporter": "python",
   "pygments_lexer": "ipython3",
   "version": "3.7.4"
  }
 },
 "nbformat": 4,
 "nbformat_minor": 2
}
