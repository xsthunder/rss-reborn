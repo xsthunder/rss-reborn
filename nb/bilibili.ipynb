{
 "cells": [
  {
   "cell_type": "code",
   "execution_count": 10,
   "metadata": {
    "ExecuteTime": {
     "end_time": "2020-03-05T12:22:53.083482Z",
     "start_time": "2020-03-05T12:22:53.078485Z"
    }
   },
   "outputs": [],
   "source": [
    "#export\n",
    "from nbexp_personal import sendEmail"
   ]
  },
  {
   "cell_type": "markdown",
   "metadata": {},
   "source": [
    "## utils"
   ]
  },
  {
   "cell_type": "code",
   "execution_count": 11,
   "metadata": {
    "ExecuteTime": {
     "end_time": "2020-03-05T12:22:53.519400Z",
     "start_time": "2020-03-05T12:22:53.512425Z"
    }
   },
   "outputs": [],
   "source": [
    "#export\n",
    "def itemgetter(*args):\n",
    "    g = operator.itemgetter(*args)\n",
    "    def f(*args2):\n",
    "        return dict(zip(args,  g(*args2)))\n",
    "    return f"
   ]
  },
  {
   "cell_type": "code",
   "execution_count": 12,
   "metadata": {
    "ExecuteTime": {
     "end_time": "2020-03-05T12:22:53.871792Z",
     "start_time": "2020-03-05T12:22:53.862797Z"
    }
   },
   "outputs": [],
   "source": [
    "#export\n",
    "def write_json(filename, content):\n",
    "    with open(filename, 'w', encoding='UTF-8') as f:\n",
    "        json.dump( content,f, ensure_ascii=False, indent=4)\n",
    "def read_json(filename):\n",
    "    with open(filename, 'r', encoding='UTF-8') as f:\n",
    "        return json.load( f)"
   ]
  },
  {
   "cell_type": "markdown",
   "metadata": {},
   "source": [
    "## read and convert "
   ]
  },
  {
   "cell_type": "code",
   "execution_count": 13,
   "metadata": {
    "ExecuteTime": {
     "end_time": "2020-03-05T12:22:54.542742Z",
     "start_time": "2020-03-05T12:22:54.535748Z"
    }
   },
   "outputs": [],
   "source": [
    "#export\n",
    "# 复制为cCURL（posix）\n",
    "def read_code(code_path):\n",
    "    with open(code_path, 'r', encoding='UTF-8') as f:\n",
    "        code = f.read().split('\\n')[0]\n",
    "        return code\n",
    "code =read_code('../bili_curl.txt')"
   ]
  },
  {
   "cell_type": "code",
   "execution_count": 34,
   "metadata": {
    "ExecuteTime": {
     "end_time": "2020-03-05T12:24:58.583518Z",
     "start_time": "2020-03-05T12:24:58.577521Z"
    }
   },
   "outputs": [],
   "source": [
    "# code\n",
    "c =nbexp_uncurl.parse(code, timeout=5)\n",
    "# print(c)"
   ]
  },
  {
   "cell_type": "code",
   "execution_count": 15,
   "metadata": {
    "ExecuteTime": {
     "end_time": "2020-03-05T12:23:02.053308Z",
     "start_time": "2020-03-05T12:23:02.049310Z"
    }
   },
   "outputs": [],
   "source": [
    "# !{code.strip()}"
   ]
  },
  {
   "cell_type": "code",
   "execution_count": 16,
   "metadata": {
    "ExecuteTime": {
     "end_time": "2020-03-05T12:23:06.414544Z",
     "start_time": "2020-03-05T12:23:06.407547Z"
    }
   },
   "outputs": [],
   "source": [
    "#export\n",
    "import nbexp_uncurl\n",
    "import requests\n",
    "from functools import partial\n",
    "def fetch_code(code):\n",
    "    c =nbexp_uncurl.parse(code, timeout=5)\n",
    "    r = eval(c)\n",
    "    j = r.json()\n",
    "    return j"
   ]
  },
  {
   "cell_type": "code",
   "execution_count": 17,
   "metadata": {
    "ExecuteTime": {
     "end_time": "2020-03-05T12:23:09.095773Z",
     "start_time": "2020-03-05T12:23:09.082780Z"
    },
    "scrolled": true
   },
   "outputs": [],
   "source": [
    "#export\n",
    "import operator\n",
    "import json\n",
    "import datetime\n",
    "def get_time(timestamp):\n",
    "    d = datetime.datetime.fromtimestamp(timestamp)\n",
    "    d = d.isoformat()\n",
    "    return d\n",
    "    \n",
    "def cvt_cards(j):\n",
    "    cards = j['data']['cards']\n",
    "    cards = list(map(operator.itemgetter('card'), cards))\n",
    "    cards = list(map(json.loads, cards))\n",
    "    kl = ('title', 'desc',  'pic', 'stat', 'ctime')\n",
    "    cards = list(map(itemgetter(*kl), cards))\n",
    "    def cvt(card):\n",
    "        content_id = str(card['stat']['aid'])\n",
    "        content = itemgetter(*kl[:-2])(card)\n",
    "        pic = content['pic'] + '@64w_36h_1c.jpg'\n",
    "        content['pic'] = pic\n",
    "        d = get_time(card['ctime'])\n",
    "        url = 'https://www.bilibili.com/video/av' + content_id \n",
    "        return (content_id,  {'content': content , \"url\":url , 'time':d} )\n",
    "    cards = dict((map(cvt, cards)))\n",
    "    return cards"
   ]
  },
  {
   "cell_type": "markdown",
   "metadata": {},
   "source": [
    "## render"
   ]
  },
  {
   "cell_type": "code",
   "execution_count": 18,
   "metadata": {
    "ExecuteTime": {
     "end_time": "2020-03-05T12:23:09.904298Z",
     "start_time": "2020-03-05T12:23:09.897300Z"
    }
   },
   "outputs": [],
   "source": [
    "#export\n",
    "def render_div(v):\n",
    "    content = v['content']\n",
    "    desc = content['desc']\n",
    "\n",
    "    if len(desc) > 50:\n",
    "        desc = desc[:20]+'...'\n",
    "    \n",
    "    body = f\"\"\"\n",
    "        <div style=\"margin:10px\">\n",
    "            <img src='{content['pic']}'>\n",
    "            <a href='{v['url']}'>{content['title']}</a>\n",
    "            <span>{desc} {v['time']}</span>\n",
    "        </div>\n",
    "    \"\"\"\n",
    "    return body"
   ]
  },
  {
   "cell_type": "code",
   "execution_count": 19,
   "metadata": {
    "ExecuteTime": {
     "end_time": "2020-03-05T12:23:10.351149Z",
     "start_time": "2020-03-05T12:23:10.345147Z"
    }
   },
   "outputs": [],
   "source": [
    "#export\n",
    "def render_html(v_list):\n",
    "    divs = ''.join(map(render_div, v_list))\n",
    "    html = f\"\"\"\\\n",
    "    <html>\n",
    "      <head></head>\n",
    "      <body>\n",
    "          {divs}\n",
    "      </body>\n",
    "    </html>\n",
    "    \"\"\"\n",
    "    return html"
   ]
  },
  {
   "cell_type": "code",
   "execution_count": 20,
   "metadata": {
    "ExecuteTime": {
     "end_time": "2020-03-05T12:23:10.795564Z",
     "start_time": "2020-03-05T12:23:10.770575Z"
    }
   },
   "outputs": [],
   "source": [
    "#export\n",
    "from email.mime.multipart import MIMEMultipart\n",
    "from email.mime.text import MIMEText\n",
    "\n",
    "# Create the body of the message (a plain-text and an HTML version).\n",
    "def render_msg(v_list, sub_name=\"\"):\n",
    "    v_list = list(v_list)\n",
    "    html = render_html(v_list)\n",
    "    msg = MIMEMultipart('alternative')\n",
    "    msg['Subject'] = sub_name + '订阅' + '+' + str(len(v_list))\n",
    "    msg['From'] = sub_name\n",
    "    msg['To'] = ''\n",
    "    # Record the MIME types of both parts - text/plain and text/html.\n",
    "    part2 = MIMEText(html, 'html')\n",
    "    msg.attach(part2)\n",
    "    return msg.as_string()"
   ]
  },
  {
   "cell_type": "code",
   "execution_count": 21,
   "metadata": {
    "ExecuteTime": {
     "end_time": "2020-03-05T12:23:11.204577Z",
     "start_time": "2020-03-05T12:23:11.200575Z"
    }
   },
   "outputs": [],
   "source": [
    "# msg = render_msg(cards.values())"
   ]
  },
  {
   "cell_type": "markdown",
   "metadata": {
    "ExecuteTime": {
     "end_time": "2020-03-03T07:28:18.452169Z",
     "start_time": "2020-03-03T07:28:17.428046Z"
    }
   },
   "source": [
    "## check oldcards"
   ]
  },
  {
   "cell_type": "code",
   "execution_count": 22,
   "metadata": {
    "ExecuteTime": {
     "end_time": "2020-03-05T12:23:13.573102Z",
     "start_time": "2020-03-05T12:23:13.561109Z"
    }
   },
   "outputs": [],
   "source": [
    "#export\n",
    "def get_cards():\n",
    "    fetch = partial(fetch_code, code)\n",
    "    cards = cvt_cards(fetch())\n",
    "    return cards\n",
    "    \n",
    "def get_main(json_path, get_cards, sub_name=\"\"):\n",
    "    \n",
    "    def main():\n",
    "        cards = get_cards()\n",
    "        wj = partial( write_json, json_path,)\n",
    "        rj = partial( read_json, json_path,)\n",
    "\n",
    "        if not exists(json_path):\n",
    "            # 发送所有\n",
    "            wj({})\n",
    "\n",
    "        old_cards = rj()\n",
    "\n",
    "        new_cards = filter(lambda tp:tp[0] not in old_cards, cards.items())\n",
    "        new_cards = map(operator.itemgetter(1), new_cards)\n",
    "        new_cards = list(new_cards)\n",
    "        if new_cards:\n",
    "            msg = render_msg(new_cards, sub_name)\n",
    "            sendEmail(msg)\n",
    "            old_cards.update(cards)\n",
    "            wj(old_cards)\n",
    "            \n",
    "    return main"
   ]
  },
  {
   "cell_type": "code",
   "execution_count": 23,
   "metadata": {
    "ExecuteTime": {
     "end_time": "2020-03-05T12:23:13.775592Z",
     "start_time": "2020-03-05T12:23:13.770595Z"
    }
   },
   "outputs": [],
   "source": [
    "#export\n",
    "from os.path import exists\n",
    "json_path = './bili.json'\n",
    "main = get_main(json_path, get_cards, \"bili\")\n"
   ]
  },
  {
   "cell_type": "code",
   "execution_count": 24,
   "metadata": {
    "ExecuteTime": {
     "end_time": "2020-03-05T12:23:15.305890Z",
     "start_time": "2020-03-05T12:23:14.360608Z"
    }
   },
   "outputs": [],
   "source": [
    "main()"
   ]
  },
  {
   "cell_type": "code",
   "execution_count": 25,
   "metadata": {
    "ExecuteTime": {
     "end_time": "2020-03-05T12:23:17.790126Z",
     "start_time": "2020-03-05T12:23:16.816555Z"
    }
   },
   "outputs": [],
   "source": [
    "#export\n",
    "if __name__ == '__main__': main()"
   ]
  },
  {
   "cell_type": "code",
   "execution_count": 37,
   "metadata": {
    "ExecuteTime": {
     "end_time": "2020-03-05T12:25:16.433960Z",
     "start_time": "2020-03-05T12:25:16.130130Z"
    }
   },
   "outputs": [
    {
     "name": "stdout",
     "output_type": "stream",
     "text": [
      "Converted bilibili.ipynb to nbexp_bilibili.py\n"
     ]
    }
   ],
   "source": [
    "!python notebook2script.py bilibili.ipynb"
   ]
  },
  {
   "cell_type": "code",
   "execution_count": 35,
   "metadata": {
    "ExecuteTime": {
     "end_time": "2020-03-05T12:25:09.049727Z",
     "start_time": "2020-03-05T12:25:09.042730Z"
    }
   },
   "outputs": [],
   "source": [
    "rj = partial( read_json, json_path,)\n",
    "cards = rj()\n",
    "# new_cards = map(operator.itemgetter(1), cards.items())\n",
    "# new_cards = list(new_cards )\n",
    "# msg = render_msg(new_cards, 'bili')\n",
    "# sendEmail(msg, )\n",
    "# cards"
   ]
  },
  {
   "cell_type": "code",
   "execution_count": 29,
   "metadata": {
    "ExecuteTime": {
     "end_time": "2020-03-05T12:23:37.825102Z",
     "start_time": "2020-03-05T12:23:37.222425Z"
    }
   },
   "outputs": [],
   "source": [
    "r = fetch_code(code)"
   ]
  },
  {
   "cell_type": "code",
   "execution_count": 36,
   "metadata": {
    "ExecuteTime": {
     "end_time": "2020-03-05T12:25:10.576922Z",
     "start_time": "2020-03-05T12:25:10.572925Z"
    }
   },
   "outputs": [],
   "source": [
    "# r"
   ]
  },
  {
   "cell_type": "code",
   "execution_count": null,
   "metadata": {},
   "outputs": [],
   "source": []
  }
 ],
 "metadata": {
  "kernelspec": {
   "display_name": "Python 3",
   "language": "python",
   "name": "python3"
  },
  "language_info": {
   "codemirror_mode": {
    "name": "ipython",
    "version": 3
   },
   "file_extension": ".py",
   "mimetype": "text/x-python",
   "name": "python",
   "nbconvert_exporter": "python",
   "pygments_lexer": "ipython3",
   "version": "3.7.4"
  }
 },
 "nbformat": 4,
 "nbformat_minor": 2
}
