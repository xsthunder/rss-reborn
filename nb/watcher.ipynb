{
 "cells": [
  {
   "cell_type": "code",
   "execution_count": 34,
   "metadata": {
    "ExecuteTime": {
     "end_time": "2020-03-05T13:31:21.636190Z",
     "start_time": "2020-03-05T13:31:21.594215Z"
    }
   },
   "outputs": [],
   "source": [
    "#export\n",
    "\n",
    "# temptation\n",
    "# night watcher to avoid unexpected halt \n",
    "# when performing request, which freeze the program and won't be able to throw exception\n",
    "# the best way to limit the run time of a fn, is to run as subprocess\n",
    "# subprocessing and manipuating threads is too raw for me\n",
    "# so, i use async program model to deal with the mess\n",
    "\n",
    "import os, sys\n",
    "from os.path import join\n",
    "wd = os.getcwd()\n",
    "pyf = join(wd, 'nbexp_main.py')\n",
    "code = f'{sys.executable} {pyf}'"
   ]
  },
  {
   "cell_type": "code",
   "execution_count": 2,
   "metadata": {
    "ExecuteTime": {
     "end_time": "2020-03-05T11:01:31.161022Z",
     "start_time": "2020-03-05T11:01:31.156025Z"
    }
   },
   "outputs": [],
   "source": [
    "#export\n",
    "from functools import partial\n",
    "print=partial(print, flush=True)\n",
    "in_jupyter = (__doc__ == 'Automatically created module for IPython interactive environment')"
   ]
  },
  {
   "cell_type": "code",
   "execution_count": 19,
   "metadata": {
    "ExecuteTime": {
     "end_time": "2020-03-05T11:37:45.539178Z",
     "start_time": "2020-03-05T11:37:45.507198Z"
    }
   },
   "outputs": [],
   "source": [
    "#export\n",
    "\n",
    "# https://docs.python.org/3/library/asyncio-subprocess.html\n",
    "import asyncio\n",
    "import sys\n",
    "import datetime\n",
    "import time\n",
    "# https://stackoverflow.com/questions/44633458/why-am-i-getting-notimplementederror-with-async-and-await-on-windows\n",
    "asyncio.set_event_loop_policy(asyncio.WindowsProactorEventLoopPolicy()) \n",
    "\n",
    "\n",
    "async def get_date(run_args=[sys.executable, '-c', \"import time;print('ing',  flush=True);time.sleep(2);print('done')\",]\n",
    "                   , wait_child_sec=3):\n",
    "\n",
    "    # Create the subprocess; redirect the standard output\n",
    "    # into a pipe.\n",
    "    proc = await asyncio.create_subprocess_exec(\n",
    "        *run_args,\n",
    "        stdout=asyncio.subprocess.PIPE,\n",
    "        stderr=asyncio.subprocess.PIPE,\n",
    "    )\n",
    "\n",
    "    await asyncio.wait_for(proc.wait(), timeout=wait_child_sec)\n",
    "    \n",
    "    line=''\n",
    "    \n",
    "    data = await proc.stdout.read()\n",
    "    line += data.decode('ascii').rstrip()\n",
    "    \n",
    "    line += '\\n'\n",
    "    \n",
    "    data = await proc.stderr.read()\n",
    "    line += data.decode('ascii').rstrip()\n",
    "    \n",
    "    if line: print(line)\n",
    "    "
   ]
  },
  {
   "cell_type": "code",
   "execution_count": 20,
   "metadata": {
    "ExecuteTime": {
     "end_time": "2020-03-05T11:37:48.987342Z",
     "start_time": "2020-03-05T11:37:48.982344Z"
    }
   },
   "outputs": [],
   "source": [
    "# testing\n",
    "if not in_jupyter: asyncio.run(get_date())"
   ]
  },
  {
   "cell_type": "code",
   "execution_count": 31,
   "metadata": {
    "ExecuteTime": {
     "end_time": "2020-03-05T12:40:11.110639Z",
     "start_time": "2020-03-05T12:40:11.047676Z"
    }
   },
   "outputs": [],
   "source": [
    "#export\n",
    "hrs = 0.5\n",
    "sec = hrs * 60 * 60\n",
    "from time import sleep\n",
    "import traceback\n",
    "from nbexp_main import timer, save_notebook\n",
    "\n",
    "while True:\n",
    "    if in_jupyter:\n",
    "        break;\n",
    "    try:\n",
    "        t = timer()\n",
    "        next(t)\n",
    "        date = asyncio.run(get_date([sys.executable, pyf,], 30))\n",
    "        next(t)\n",
    "    except asyncio.TimeoutError:\n",
    "        print('timeout!')\n",
    "    except Exception as e:\n",
    "        print(\"unexpected err\")\n",
    "        print(traceback.print_exc())\n",
    "        \n",
    "    # better behaviour if your put computer to sleep\n",
    "    t = timer(slient_mode=True)\n",
    "    while True:\n",
    "        sleep(10)\n",
    "        _, time_cost = next(t)\n",
    "        if time_cost > sec:\n",
    "            break;"
   ]
  },
  {
   "cell_type": "code",
   "execution_count": 32,
   "metadata": {
    "ExecuteTime": {
     "end_time": "2020-03-05T12:40:11.619776Z",
     "start_time": "2020-03-05T12:40:11.583798Z"
    }
   },
   "outputs": [
    {
     "data": {
      "application/javascript": [
       "IPython.notebook.save_checkpoint();"
      ],
      "text/plain": [
       "<IPython.core.display.Javascript object>"
      ]
     },
     "metadata": {},
     "output_type": "display_data"
    }
   ],
   "source": [
    "save_notebook()"
   ]
  },
  {
   "cell_type": "code",
   "execution_count": null,
   "metadata": {
    "ExecuteTime": {
     "start_time": "2020-03-05T12:40:12.134Z"
    }
   },
   "outputs": [
    {
     "name": "stdout",
     "output_type": "stream",
     "text": [
      "Converted watcher.ipynb to nbexp_watcher.py\n"
     ]
    }
   ],
   "source": [
    "!python notebook2script.py watcher.ipynb\n",
    "save_notebook()"
   ]
  },
  {
   "cell_type": "code",
   "execution_count": 27,
   "metadata": {
    "ExecuteTime": {
     "end_time": "2020-03-04T14:54:13.113079Z",
     "start_time": "2020-03-04T14:54:13.110081Z"
    }
   },
   "outputs": [],
   "source": [
    "# !{code}"
   ]
  },
  {
   "cell_type": "code",
   "execution_count": null,
   "metadata": {
    "ExecuteTime": {
     "start_time": "2020-03-04T14:43:33.196Z"
    }
   },
   "outputs": [],
   "source": [
    "# !python nbexp_watcher.py"
   ]
  },
  {
   "cell_type": "code",
   "execution_count": null,
   "metadata": {
    "ExecuteTime": {
     "start_time": "2020-03-04T14:17:01.539Z"
    }
   },
   "outputs": [],
   "source": []
  },
  {
   "cell_type": "code",
   "execution_count": null,
   "metadata": {},
   "outputs": [],
   "source": []
  }
 ],
 "metadata": {
  "kernelspec": {
   "display_name": "Python 3",
   "language": "python",
   "name": "python3"
  },
  "language_info": {
   "codemirror_mode": {
    "name": "ipython",
    "version": 3
   },
   "file_extension": ".py",
   "mimetype": "text/x-python",
   "name": "python",
   "nbconvert_exporter": "python",
   "pygments_lexer": "ipython3",
   "version": "3.7.4"
  }
 },
 "nbformat": 4,
 "nbformat_minor": 2
}
