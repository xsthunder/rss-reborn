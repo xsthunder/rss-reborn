{
 "cells": [
  {
   "cell_type": "code",
   "execution_count": 59,
   "metadata": {
    "ExecuteTime": {
     "end_time": "2020-03-03T03:34:30.749638Z",
     "start_time": "2020-03-03T03:34:30.741380Z"
    }
   },
   "outputs": [],
   "source": [
    "#export\n",
    "class MyDict(dict):\n",
    "    def gets(self, names):\n",
    "        names = names.split(',')\n",
    "        names = map(lambda s:s.strip(), names)\n",
    "        return map(lambda s:self[s], names)\n",
    "        return names\n",
    "    "
   ]
  },
  {
   "cell_type": "code",
   "execution_count": 63,
   "metadata": {
    "ExecuteTime": {
     "end_time": "2020-03-03T03:35:05.999143Z",
     "start_time": "2020-03-03T03:35:05.988150Z"
    }
   },
   "outputs": [],
   "source": [
    "#export\n",
    "import smtplib\n",
    "import json\n",
    "\n",
    "with open(\"../personal_info.json\", 'r') as f:\n",
    "    info = json.load(f)\n",
    "    info = MyDict(info)\n",
    "\n",
    "def sendEmail(message):\n",
    "    sender, password, smtp, recipient = info.gets(\"sender, password, smtp, recipient \")\n",
    "\n",
    "    smtp = MyDict(smtp)\n",
    "    address, port = smtp.gets(\"address, port \")\n",
    "\n",
    "    with smtplib.SMTP_SSL(address, port ) as server :\n",
    "        server.login(sender, password)\n",
    "        server.sendmail(sender, recipient, message)"
   ]
  },
  {
   "cell_type": "code",
   "execution_count": 64,
   "metadata": {
    "ExecuteTime": {
     "end_time": "2020-03-03T03:35:09.605592Z",
     "start_time": "2020-03-03T03:35:06.110632Z"
    }
   },
   "outputs": [],
   "source": [
    "sendEmail(\"Subject: sub\\n\\nbody\")"
   ]
  },
  {
   "cell_type": "code",
   "execution_count": 51,
   "metadata": {
    "ExecuteTime": {
     "end_time": "2020-03-03T03:14:14.850075Z",
     "start_time": "2020-03-03T03:14:13.648497Z"
    },
    "scrolled": true
   },
   "outputs": [],
   "source": [
    "info = MyDict(info)\n",
    "sender, password, smtp, recipient = info.gets(\"sender, password, smtp, recipient \")\n",
    "\n",
    "smtp = MyDict(smtp)\n",
    "address, port = smtp.gets(\"address, port \")\n",
    "\n",
    "with smtplib.SMTP_SSL(address, port ) as server :\n",
    "    server.login(sender, password)\n",
    "    server.sendmail(sender, recipient, message)"
   ]
  },
  {
   "cell_type": "code",
   "execution_count": 55,
   "metadata": {
    "ExecuteTime": {
     "end_time": "2020-03-03T03:33:48.597832Z",
     "start_time": "2020-03-03T03:33:48.321992Z"
    }
   },
   "outputs": [
    {
     "name": "stdout",
     "output_type": "stream",
     "text": [
      "Converted personal_info.ipynb to nbexp_personal.py\n"
     ]
    }
   ],
   "source": [
    "!python notebook2script.py personal_info.ipynb"
   ]
  },
  {
   "cell_type": "code",
   "execution_count": 9,
   "metadata": {
    "ExecuteTime": {
     "end_time": "2020-03-03T02:42:15.339840Z",
     "start_time": "2020-03-03T02:42:15.335841Z"
    }
   },
   "outputs": [],
   "source": [
    "sender, password = info['sender'], info['password']\n",
    "smtp = info[\"smtp\"]\n",
    "address, port = smtp[\"\"]"
   ]
  }
 ],
 "metadata": {
  "kernelspec": {
   "display_name": "Python 3",
   "language": "python",
   "name": "python3"
  },
  "language_info": {
   "codemirror_mode": {
    "name": "ipython",
    "version": 3
   },
   "file_extension": ".py",
   "mimetype": "text/x-python",
   "name": "python",
   "nbconvert_exporter": "python",
   "pygments_lexer": "ipython3",
   "version": "3.7.4"
  }
 },
 "nbformat": 4,
 "nbformat_minor": 2
}
