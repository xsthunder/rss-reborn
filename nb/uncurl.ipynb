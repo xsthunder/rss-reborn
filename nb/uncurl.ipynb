{
 "cells": [
  {
   "cell_type": "code",
   "execution_count": 30,
   "metadata": {
    "ExecuteTime": {
     "end_time": "2020-03-05T12:36:59.325496Z",
     "start_time": "2020-03-05T12:36:59.271528Z"
    }
   },
   "outputs": [],
   "source": [
    "#export\n",
    "# see https://github.com/spulec/uncurl/blob/master/uncurl/api.py\n",
    "import argparse\n",
    "import json\n",
    "import re\n",
    "import shlex\n",
    "from collections import OrderedDict, namedtuple\n",
    "\n",
    "from six.moves import http_cookies as Cookie\n",
    "\n",
    "parser = argparse.ArgumentParser()\n",
    "parser.add_argument('command')\n",
    "parser.add_argument('url')\n",
    "parser.add_argument('-d', '--data')\n",
    "parser.add_argument('-b', '--data-binary', default=None)\n",
    "parser.add_argument('-X', default='')\n",
    "parser.add_argument('-H', '--header', action='append', default=[])\n",
    "parser.add_argument('--compressed', action='store_true')\n",
    "parser.add_argument('--insecure', action='store_true')\n",
    "\n",
    "BASE_INDENT = \" \" * 4\n",
    "\n",
    "ParsedContext = namedtuple('ParsedContext', ['method', 'url', 'data', 'headers', 'cookies', 'verify'])\n",
    "\n",
    "def parse_context(curl_command):\n",
    "    method = \"get\"\n",
    "\n",
    "    tokens = shlex.split(curl_command)\n",
    "    parsed_args = parser.parse_args(tokens)\n",
    "\n",
    "    post_data = parsed_args.data or parsed_args.data_binary\n",
    "    if post_data:\n",
    "        method = 'post'\n",
    "\n",
    "    if parsed_args.X:\n",
    "        method = parsed_args.X.lower()\n",
    "\n",
    "    cookie_dict = OrderedDict()\n",
    "    quoted_headers = OrderedDict()\n",
    "\n",
    "    for curl_header in parsed_args.header:\n",
    "        if curl_header.startswith(':'):\n",
    "            occurrence = [m.start() for m in re.finditer(':', curl_header)]\n",
    "            header_key, header_value = curl_header[:occurrence[1]], curl_header[occurrence[1] + 1:]\n",
    "        else:\n",
    "            header_key, header_value = curl_header.split(\":\", 1)\n",
    "\n",
    "        if header_key.lower() == 'cookie':\n",
    "            cookie = Cookie.SimpleCookie(header_value)\n",
    "            for key in cookie:\n",
    "                cookie_dict[key] = cookie[key].value\n",
    "        else:\n",
    "            quoted_headers[header_key] = header_value.strip()\n",
    "\n",
    "    return ParsedContext(\n",
    "        method=method,\n",
    "        url=parsed_args.url,\n",
    "        data=post_data,\n",
    "        headers=quoted_headers,\n",
    "        cookies=cookie_dict,\n",
    "        verify=parsed_args.insecure\n",
    "    )\n",
    "\n",
    "\n",
    "def parse(curl_command, **kargs):\n",
    "    parsed_context = parse_context(curl_command)\n",
    "\n",
    "    data_token = ''\n",
    "    if parsed_context.data:\n",
    "        data_token = '{}data=\\'{}\\',\\n'.format(BASE_INDENT, parsed_context.data)\n",
    "\n",
    "    verify_token = ''\n",
    "    if parsed_context.verify:\n",
    "        verify_token = '\\n{}verify=False'.format(BASE_INDENT)\n",
    "        \n",
    "        \n",
    "        \n",
    "    requests_kagrs=''\n",
    "    for k,v in kargs.items():\n",
    "        requests_kagrs += \"{}{}={},\\n\".format(BASE_INDENT,k,str(v))\n",
    "\n",
    "    formatter = {\n",
    "        'method': parsed_context.method,\n",
    "        'url': parsed_context.url,\n",
    "        'data_token': data_token,\n",
    "        'headers_token': \"{}headers={}\".format(BASE_INDENT, dict_to_pretty_string(parsed_context.headers)),\n",
    "        'cookies_token': \"{}cookies={}\".format(BASE_INDENT, dict_to_pretty_string(parsed_context.cookies)),\n",
    "        'security_token': verify_token,\n",
    "        'requests_kagrs':requests_kagrs\n",
    "    }\n",
    "\n",
    "    return \"\"\"requests.{method}(\"{url}\",\n",
    "{requests_kagrs}{data_token}{headers_token},\n",
    "{cookies_token},{security_token}\n",
    ")\"\"\".format(**formatter)\n",
    "\n",
    "def dict_to_pretty_string(the_dict, indent=4):\n",
    "    if not the_dict:\n",
    "        return \"{}\"\n",
    "\n",
    "    return (\"\\n\" + \" \" * indent).join(\n",
    "        json.dumps(the_dict, sort_keys=True, indent=indent, separators=(',', ': ')).splitlines())"
   ]
  },
  {
   "cell_type": "code",
   "execution_count": 31,
   "metadata": {
    "ExecuteTime": {
     "end_time": "2020-03-05T12:36:59.655177Z",
     "start_time": "2020-03-05T12:36:59.650178Z"
    }
   },
   "outputs": [
    {
     "name": "stdout",
     "output_type": "stream",
     "text": [
      "requests.get(\"https://pypi.python.org/pypi/uncurl\",\n",
      "    timeout=0.1,\n",
      "    allow_redirects=True,\n",
      "    headers={\n",
      "        \"Accept-Encoding\": \"gzip,deflate,sdch\"\n",
      "    },\n",
      "    cookies={},\n",
      ")\n"
     ]
    }
   ],
   "source": [
    "print(parse(\"curl 'https://pypi.python.org/pypi/uncurl' -H 'Accept-Encoding: gzip,deflate,sdch'\", timeout=0.1, allow_redirects=True))"
   ]
  },
  {
   "cell_type": "code",
   "execution_count": 22,
   "metadata": {
    "ExecuteTime": {
     "end_time": "2020-03-05T12:33:03.043004Z",
     "start_time": "2020-03-05T12:33:03.036008Z"
    }
   },
   "outputs": [
    {
     "data": {
      "text/plain": [
       "'timeout=True,'"
      ]
     },
     "execution_count": 22,
     "metadata": {},
     "output_type": "execute_result"
    }
   ],
   "source": [
    "d = {\"timeout\":True}\n",
    "requests_kagrs=''\n",
    "for k,v in d.items():\n",
    "    requests_kagrs += (k+'='+str(v)+',')\n",
    "requests_kagrs"
   ]
  },
  {
   "cell_type": "code",
   "execution_count": 23,
   "metadata": {
    "ExecuteTime": {
     "end_time": "2020-03-05T12:33:09.319332Z",
     "start_time": "2020-03-05T12:33:09.313333Z"
    }
   },
   "outputs": [
    {
     "ename": "SyntaxError",
     "evalue": "invalid syntax (<ipython-input-23-56574c47f80d>, line 1)",
     "output_type": "error",
     "traceback": [
      "\u001b[1;36m  File \u001b[1;32m\"<ipython-input-23-56574c47f80d>\"\u001b[1;36m, line \u001b[1;32m1\u001b[0m\n\u001b[1;33m    requests_kagrs=reduce(lambda a, c: )\u001b[0m\n\u001b[1;37m                                       ^\u001b[0m\n\u001b[1;31mSyntaxError\u001b[0m\u001b[1;31m:\u001b[0m invalid syntax\n"
     ]
    }
   ],
   "source": [
    "requests_kagrs=reduce(lambda a, c: \"%s\"%(a,c), '')"
   ]
  },
  {
   "cell_type": "code",
   "execution_count": 18,
   "metadata": {
    "ExecuteTime": {
     "end_time": "2020-03-05T12:22:11.615093Z",
     "start_time": "2020-03-05T12:22:11.343159Z"
    }
   },
   "outputs": [
    {
     "name": "stdout",
     "output_type": "stream",
     "text": [
      "Converted watcher.ipynb to nbexp_watcher.py\n"
     ]
    }
   ],
   "source": [
    "!python notebook2script.py watcher.ipynb"
   ]
  },
  {
   "cell_type": "code",
   "execution_count": null,
   "metadata": {
    "ExecuteTime": {
     "start_time": "2020-03-05T12:22:13.241Z"
    }
   },
   "outputs": [
    {
     "data": {
      "application/javascript": [
       "IPython.notebook.save_checkpoint();"
      ],
      "text/plain": [
       "<IPython.core.display.Javascript object>"
      ]
     },
     "metadata": {},
     "output_type": "display_data"
    },
    {
     "name": "stdout",
     "output_type": "stream",
     "text": [
      "Converted uncurl.ipynb to nbexp_uncurl.py\n"
     ]
    }
   ],
   "source": [
    "from nbexp_main import timer, save_notebook\n",
    "from time import sleep\n",
    "\n",
    "def save_and_cvt(notebook_name):\n",
    "    save_notebook()\n",
    "    sleep(2)\n",
    "    !python notebook2script.py {notebook_name}.ipynb\n",
    "    save_notebook()\n",
    "    \n",
    "save_and_cvt('uncurl')"
   ]
  },
  {
   "cell_type": "code",
   "execution_count": null,
   "metadata": {},
   "outputs": [],
   "source": []
  }
 ],
 "metadata": {
  "kernelspec": {
   "display_name": "Python 3",
   "language": "python",
   "name": "python3"
  },
  "language_info": {
   "codemirror_mode": {
    "name": "ipython",
    "version": 3
   },
   "file_extension": ".py",
   "mimetype": "text/x-python",
   "name": "python",
   "nbconvert_exporter": "python",
   "pygments_lexer": "ipython3",
   "version": "3.7.4"
  }
 },
 "nbformat": 4,
 "nbformat_minor": 2
}
